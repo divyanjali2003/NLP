{
 "cells": [
  {
   "cell_type": "code",
   "execution_count": 7,
   "id": "24fb1f5d-fa1d-4432-91d6-ebc22f9b295f",
   "metadata": {},
   "outputs": [
    {
     "name": "stdout",
     "output_type": "stream",
     "text": [
      "Chatbot: Hi! Type 'bye' to exit.\n"
     ]
    },
    {
     "name": "stdin",
     "output_type": "stream",
     "text": [
      "You:  bye\n"
     ]
    },
    {
     "name": "stdout",
     "output_type": "stream",
     "text": [
      "Chatbot: Goodbye!\n"
     ]
    }
   ],
   "source": [
    "def get_response(user_input):\n",
    "    user_input = user_input.lower()\n",
    "    \n",
    "    responses = {\n",
    "        \"hi\": \"Hello! How can I help you today?\",\n",
    "        \"hello\": \"Hi there! What can I do for you?\",\n",
    "        \"how are you\": \"I'm just a bot, but I'm doing fine! How about you?\",\n",
    "        \"bye\": \"Goodbye! Have a great day!\",\n",
    "        \"what is your name\": \"I am a simple chatbot created by you.\",\n",
    "        \"default\": \"Sorry, I don't understand that.\",\n",
    "        \"please tell me about yourself\":\"my name is chatgpt.\"\n",
    "    }\n",
    "    \n",
    "    # Check for a response based on user input\n",
    "    response = responses.get(user_input, responses[\"default\"])\n",
    "    \n",
    "    return response\n",
    "\n",
    "def chat():\n",
    "    print(\"Chatbot: Hi! Type 'bye' to exit.\")\n",
    "    while True:\n",
    "        user_input = input(\"You: \")\n",
    "        if user_input.lower() == \"bye\":\n",
    "            print(\"Chatbot: Goodbye!\")\n",
    "            break\n",
    "        response = get_response(user_input)\n",
    "        print(\"Chatbot:\", response)\n",
    "\n",
    "if __name__ == \"__main__\":\n",
    "    chat()"
   ]
  },
  {
   "cell_type": "code",
   "execution_count": null,
   "id": "e7962356-3a4a-4185-8fcb-867735bd2d70",
   "metadata": {},
   "outputs": [],
   "source": [
    "from sklearn.feature_extraction.text import TfidfVectorizer\n",
    "from sklearn.metrics.pairwise import cosine_similarity\n",
    "\n",
    "responses = [\n",
    "    \"Hello! How can I help you?\",\n",
    "    \"I'm good, how about you?\",\n",
    "    \"I'm a chatbot created to assist you.\",\n",
    "    \"Goodbye! Have a great day!\"\n",
    "]\n",
    "\n",
    "def get_best_response(user_input):\n",
    "    all_texts = [user_input] + responses\n",
    "    vectorizer = TfidfVectorizer()\n",
    "    tfidf_matrix = vectorizer.fit_transform(all_texts)\n",
    "    \n",
    "    similarities = cosine_similarity(tfidf_matrix[0], tfidf_matrix[1:])[0]\n",
    "    best_match_index = similarities.argmax()\n",
    "    \n",
    "    return responses[best_match_index]\n",
    "\n",
    "def chat():\n",
    "    print(\"Chatbot: Hi! Type 'bye' to exit.\")\n",
    "    while True:\n",
    "        user_input = input(\"You: \")\n",
    "        if user_input.lower() == \"bye\":\n",
    "            print(\"Chatbot: Goodbye!\")\n",
    "            break\n",
    "        response = get_best_response(user_input)\n",
    "        print(\"Chatbot:\", response)\n",
    "\n",
    "chat()\n"
   ]
  },
  {
   "cell_type": "code",
   "execution_count": null,
   "id": "1237533c-24e4-46e8-b604-ace6631bec6e",
   "metadata": {},
   "outputs": [],
   "source": [
    "#with NLP\n"
   ]
  }
 ],
 "metadata": {
  "kernelspec": {
   "display_name": "Python [conda env:base] *",
   "language": "python",
   "name": "conda-base-py"
  },
  "language_info": {
   "codemirror_mode": {
    "name": "ipython",
    "version": 3
   },
   "file_extension": ".py",
   "mimetype": "text/x-python",
   "name": "python",
   "nbconvert_exporter": "python",
   "pygments_lexer": "ipython3",
   "version": "3.12.7"
  }
 },
 "nbformat": 4,
 "nbformat_minor": 5
}
